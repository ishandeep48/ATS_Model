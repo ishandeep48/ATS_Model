{
 "cells": [
  {
   "cell_type": "code",
   "execution_count": 22,
   "id": "9e644198",
   "metadata": {},
   "outputs": [],
   "source": [
    "import pandas as pd\n",
    "import numpy as np\n",
    "from collections import defaultdict\n",
    "from sentence_transformers import SentenceTransformer , util"
   ]
  },
  {
   "cell_type": "code",
   "execution_count": 23,
   "id": "e1160a87",
   "metadata": {},
   "outputs": [],
   "source": [
    "model = SentenceTransformer(\"all-MiniLM-L6-v2\", device=\"cuda\")\n"
   ]
  },
  {
   "cell_type": "code",
   "execution_count": 24,
   "id": "67e24027",
   "metadata": {},
   "outputs": [],
   "source": [
    "df_bert = pd.read_csv(r'D:\\Projects\\ATS_Model\\cs_resume_dataset_realistic.csv')\n",
    "df_1 = pd.read_csv(r\"D:\\Projects\\ATS_Model\\Resume.csv\")\n",
    "df_2 = pd.read_csv(r\"D:\\Projects\\ATS_Model\\UpdatedResumeDataSet.csv\")\n",
    "df_3 = pd.read_csv(r\"D:\\Projects\\ATS_Model\\Preprocessed_Data.csv\")\n",
    "df_bert = df_bert.rename(columns={'SKILLS': 'resume_text', 'JOB_CATEGORY': 'category'})\n",
    "df_1 = df_1.rename(columns={'Resume_str': 'resume_text', 'Category': 'category'})\n",
    "df_2 = df_2.rename(columns={'Resume': 'resume_text', 'Category': 'category'})\n",
    "df_3 = df_3.rename(columns={'Text': 'resume_text', 'Category': 'category'})\n",
    "merged_df = pd.concat([df_bert, df_1, df_2, df_3], ignore_index=True)\n",
    "merged_df = merged_df.drop(columns=['ID','Resume_html'])\n",
    "X_bert = merged_df['resume_text'].tolist()\n",
    "y_bert = merged_df['category'].tolist()"
   ]
  },
  {
   "cell_type": "code",
   "execution_count": 25,
   "id": "b2879866",
   "metadata": {},
   "outputs": [
    {
     "data": {
      "application/vnd.jupyter.widget-view+json": {
       "model_id": "70b30c69c6154b86916e033b1ce6ecda",
       "version_major": 2,
       "version_minor": 0
      },
      "text/plain": [
       "Batches:   0%|          | 0/2089 [00:00<?, ?it/s]"
      ]
     },
     "metadata": {},
     "output_type": "display_data"
    }
   ],
   "source": [
    "X_embeddings = model.encode(X_bert, show_progress_bar=True, convert_to_tensor=False)"
   ]
  },
  {
   "cell_type": "code",
   "execution_count": 32,
   "id": "78b62639",
   "metadata": {},
   "outputs": [],
   "source": [
    "class_embeddings = defaultdict(list)\n",
    "for emb , label in zip(X_embeddings,y_bert):\n",
    "    class_embeddings[label].append(emb)\n",
    "\n",
    "centroids = {label: np.mean(np.vstack(embs), axis=0) for label, embs in class_embeddings.items()}\n",
    "\n",
    "def score_resume(text, model=model, centroids=centroids):\n",
    "    q = model.encode([text], convert_to_tensor=False)[0]\n",
    "    sims = {}\n",
    "    for label, cent in centroids.items():\n",
    "        s = util.cos_sim(q, cent).item()   # similarity\n",
    "        sims[label] = (s + 1) / 2          # normalize -1..1 → 0..1\n",
    "    return dict(sorted(sims.items(), key=lambda x: x[1], reverse=True))"
   ]
  },
  {
   "cell_type": "code",
   "execution_count": 33,
   "id": "815ca376",
   "metadata": {},
   "outputs": [],
   "source": [
    "resume_text = \"Python, Java, C, C++, HTML, CSS, JavaScript, SQL, NoSQL, VS Code, Git, GitHub, Figma, WSL,: Linux, Node.js, Express.js, JWT, Passport.js, React.js, Vite, Socket.io , WebRTC, PDFKit,Mongoose, Bootstrap, REST API, EJS, Postman, Docker, AWS Lambda,MySQL, MongoDB, DynamoDB, AWS, Render, NGINX, Apache\"\n",
    "scores = score_resume(resume_text)\n"
   ]
  },
  {
   "cell_type": "code",
   "execution_count": 34,
   "id": "e0c45803",
   "metadata": {},
   "outputs": [],
   "source": [
    "def score_for_job(text, job_name, model=model, centroids=centroids):\n",
    "    q = model.encode([text], convert_to_tensor=False)[0]\n",
    "    if job_name not in centroids:\n",
    "        raise ValueError(f\"Job '{job_name}' not found in categories.\")\n",
    "    \n",
    "    s = util.cos_sim(q, centroids[job_name]).item()\n",
    "    return (s + 1) / 2   # normalized 0–1\n"
   ]
  },
  {
   "cell_type": "code",
   "execution_count": 53,
   "id": "81424581",
   "metadata": {},
   "outputs": [
    {
     "name": "stdout",
     "output_type": "stream",
     "text": [
      "Closest job to 'Frontend' is 'SDET' with similarity 0.7176\n"
     ]
    }
   ],
   "source": [
    "def closest_job_name(query, model, labels):\n",
    "    q_emb = model.encode([query], convert_to_tensor=True)\n",
    "    label_embs = model.encode(labels, convert_to_tensor=True)\n",
    "\n",
    "    sims = util.cos_sim(q_emb, label_embs)[0]  # similarities to all labels\n",
    "    best_idx = sims.argmax().item()\n",
    "    \n",
    "    return labels[best_idx], sims[best_idx].item()\n",
    "    \n",
    "\n",
    "# Example usage\n",
    "job_labels = list(centroids.keys())\n",
    "match, score = closest_job_name(\"sde\", model, job_labels)\n",
    "\n",
    "print(f\"Closest job to 'Frontend' is '{match}' with similarity {score:.4f}\")\n"
   ]
  },
  {
   "cell_type": "code",
   "execution_count": null,
   "id": "94f18f2c",
   "metadata": {},
   "outputs": [
    {
     "name": "stdout",
     "output_type": "stream",
     "text": [
      "Match with testing: 63.1%\n"
     ]
    }
   ],
   "source": [
    "job_name = \"testing\"   # try a specific category name from your dataset\n",
    "\n",
    "match, scoreo = closest_job_name(job_name, model, job_labels)\n",
    "\n",
    "score = score_for_job(resume_text, match)\n",
    "print(f\"Match with {job_name}: {score*100:.1f}%\")\n"
   ]
  },
  {
   "cell_type": "code",
   "execution_count": 55,
   "id": "af3b2a15",
   "metadata": {},
   "outputs": [
    {
     "name": "stdout",
     "output_type": "stream",
     "text": [
      "Top 3 independent matches:\n",
      "Full Stack Developer: 90.7%\n",
      "Frontend Developer: 88.1%\n",
      "Backend Developer: 87.2%\n"
     ]
    }
   ],
   "source": [
    "top3 = list(scores.items())[:3]\n",
    "\n",
    "print(\"Top 3 independent matches:\")\n",
    "for job, score in top3:\n",
    "    print(f\"{job}: {score*100:.1f}%\")\n"
   ]
  },
  {
   "cell_type": "code",
   "execution_count": 56,
   "id": "7ac7c173",
   "metadata": {},
   "outputs": [],
   "source": [
    "import pickle\n",
    "\n",
    "# Dump centroids + job labels\n",
    "with open(\"ats_data.pkl\", \"wb\") as f:\n",
    "    pickle.dump({\n",
    "        \"centroids\": centroids,\n",
    "        \"job_labels\": list(centroids.keys())\n",
    "    }, f)\n"
   ]
  }
 ],
 "metadata": {
  "kernelspec": {
   "display_name": "Python 3",
   "language": "python",
   "name": "python3"
  },
  "language_info": {
   "codemirror_mode": {
    "name": "ipython",
    "version": 3
   },
   "file_extension": ".py",
   "mimetype": "text/x-python",
   "name": "python",
   "nbconvert_exporter": "python",
   "pygments_lexer": "ipython3",
   "version": "3.13.2"
  }
 },
 "nbformat": 4,
 "nbformat_minor": 5
}
