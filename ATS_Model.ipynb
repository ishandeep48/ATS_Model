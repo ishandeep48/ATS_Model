{
 "cells": [
  {
   "cell_type": "code",
   "execution_count": 2,
   "id": "f4981261",
   "metadata": {},
   "outputs": [],
   "source": [
    "import pandas as pd\n",
    "import numpy as np\n",
    "from sklearn.model_selection import train_test_split\n",
    "from sklearn.metrics import classification_report, accuracy_score\n",
    "from sklearn.ensemble import RandomForestClassifier\n",
    "import xgboost as xgb\n",
    "from sklearn.preprocessing import LabelEncoder\n",
    "\n"
   ]
  },
  {
   "cell_type": "markdown",
   "id": "ea1adc10",
   "metadata": {},
   "source": [
    "HERE STARTS BERT"
   ]
  },
  {
   "cell_type": "code",
   "execution_count": 3,
   "id": "202ac89f",
   "metadata": {},
   "outputs": [],
   "source": [
    "# from transformers import AutoTokenizer, AutoModel\n",
    "import torch\n",
    "# from sklearn.svm import SVC\n",
    "from sentence_transformers import SentenceTransformer , util"
   ]
  },
  {
   "cell_type": "code",
   "execution_count": null,
   "id": "1346b890",
   "metadata": {},
   "outputs": [],
   "source": [
    "model = SentenceTransformer(\"all-MiniLM-L6-v2\", device=\"cuda\")\n"
   ]
  },
  {
   "cell_type": "code",
   "execution_count": 5,
   "id": "61c9db15",
   "metadata": {},
   "outputs": [],
   "source": [
    "df_bert = pd.read_csv(r'D:\\Projects\\ATS_Model\\cs_resume_dataset_realistic.csv')"
   ]
  },
  {
   "cell_type": "code",
   "execution_count": 6,
   "id": "7f9dd066",
   "metadata": {},
   "outputs": [],
   "source": [
    "X_bert = df_bert['SKILLS'].tolist()\n",
    "y_bert = df_bert['JOB_CATEGORY'].tolist()"
   ]
  },
  {
   "cell_type": "code",
   "execution_count": 7,
   "id": "40316bca",
   "metadata": {},
   "outputs": [
    {
     "data": {
      "application/vnd.jupyter.widget-view+json": {
       "model_id": "c35efcf3e88f4ec484529a95bea1f756",
       "version_major": 2,
       "version_minor": 0
      },
      "text/plain": [
       "Batches:   0%|          | 0/46875 [00:00<?, ?it/s]"
      ]
     },
     "metadata": {},
     "output_type": "display_data"
    }
   ],
   "source": [
    "X_embeddings = model.encode(X_bert, show_progress_bar=True, convert_to_tensor=False)"
   ]
  },
  {
   "cell_type": "code",
   "execution_count": 8,
   "id": "d1c3fe59",
   "metadata": {},
   "outputs": [],
   "source": [
    "le = LabelEncoder()\n",
    "y_bert_encoded = le.fit_transform(y_bert)\n"
   ]
  },
  {
   "cell_type": "code",
   "execution_count": null,
   "id": "c04d8d92",
   "metadata": {},
   "outputs": [
    {
     "name": "stderr",
     "output_type": "stream",
     "text": [
      "Batches: 100%|██████████| 313/313 [00:02<00:00, 134.93it/s]\n"
     ]
    }
   ],
   "source": [
    "# resume_vec = model.encode(X_bert,show_progress_bar=True,convert_to_tensor=True)"
   ]
  },
  {
   "cell_type": "code",
   "execution_count": null,
   "id": "fa07ec78",
   "metadata": {},
   "outputs": [
    {
     "name": "stderr",
     "output_type": "stream",
     "text": [
      "Batches: 100%|██████████| 313/313 [00:02<00:00, 152.11it/s]\n"
     ]
    }
   ],
   "source": [
    "# job_vec = model.encode(y_bert, show_progress_bar=True, convert_to_tensor=True)"
   ]
  },
  {
   "cell_type": "code",
   "execution_count": null,
   "id": "8d470a4a",
   "metadata": {},
   "outputs": [],
   "source": [
    "# X_embeddings = X_embeddings.cpu()\n"
   ]
  },
  {
   "cell_type": "code",
   "execution_count": 9,
   "id": "e6d12c05",
   "metadata": {},
   "outputs": [],
   "source": [
    "X_train_bert, X_test_bert, y_train_bert, y_test_bert = train_test_split(\n",
    "    X_embeddings, y_bert_encoded, test_size=0.3, random_state=42 , stratify = y_bert\n",
    ")"
   ]
  },
  {
   "cell_type": "code",
   "execution_count": 10,
   "id": "0ed7baa3",
   "metadata": {},
   "outputs": [],
   "source": [
    "dtrain = xgb.DMatrix(X_train_bert, label=y_train_bert)\n",
    "dtest = xgb.DMatrix(X_test_bert, label=y_test_bert)\n"
   ]
  },
  {
   "cell_type": "code",
   "execution_count": 11,
   "id": "f8057695",
   "metadata": {},
   "outputs": [],
   "source": [
    "params = {\n",
    "    \"objective\": \"multi:softprob\",  # multi-class classification with probabilities\n",
    "    \"num_class\": len(set(y_bert)),\n",
    "    \"eval_metric\": \"mlogloss\",\n",
    "    \"tree_method\": \"gpu_hist\",      # if you want GPU, else use 'hist'\n",
    "    \"gpu_id\": 0,\n",
    "    \"max_depth\": 4,\n",
    "    \"learning_rate\": 0.1,\n",
    "    \"n_estimators\": 300,\n",
    "    'min_child_weight': 10,\n",
    "    'subsample': 0.7,\n",
    "    'colsample_bytree': 0.7,\n",
    "    'gamma': 0.5,\n",
    "    \"reg_alpha\": 0.05,              # Higher L1 regularization\n",
    "    \"reg_lambda\": 0.5,              # Higher L2 regularization\n",
    "    \"grow_policy\": \"depthwise\"\n",
    "}"
   ]
  },
  {
   "cell_type": "code",
   "execution_count": 12,
   "id": "bee8fe33",
   "metadata": {},
   "outputs": [
    {
     "name": "stderr",
     "output_type": "stream",
     "text": [
      "C:\\Users\\ishan\\AppData\\Roaming\\Python\\Python313\\site-packages\\xgboost\\callback.py:386: UserWarning: [20:38:29] WARNING: C:\\actions-runner\\_work\\xgboost\\xgboost\\src\\common\\error_msg.cc:45: `gpu_id` is deprecated since2.0.0, use `device` instead. E.g. device=cpu/cuda/cuda:0\n",
      "  self.starting_round = model.num_boosted_rounds()\n",
      "C:\\Users\\ishan\\AppData\\Roaming\\Python\\Python313\\site-packages\\xgboost\\callback.py:386: UserWarning: [20:38:29] WARNING: C:\\actions-runner\\_work\\xgboost\\xgboost\\src\\common\\error_msg.cc:27: The tree method `gpu_hist` is deprecated since 2.0.0. To use GPU training, set the `device` parameter to CUDA instead.\n",
      "\n",
      "    E.g. tree_method = \"hist\", device = \"cuda\"\n",
      "\n",
      "  self.starting_round = model.num_boosted_rounds()\n",
      "C:\\Users\\ishan\\AppData\\Roaming\\Python\\Python313\\site-packages\\xgboost\\callback.py:386: UserWarning: [20:38:29] WARNING: C:\\actions-runner\\_work\\xgboost\\xgboost\\src\\learner.cc:738: \n",
      "Parameters: { \"n_estimators\" } are not used.\n",
      "\n",
      "  self.starting_round = model.num_boosted_rounds()\n"
     ]
    },
    {
     "name": "stdout",
     "output_type": "stream",
     "text": [
      "[0]\ttrain-mlogloss:2.02185\ttest-mlogloss:2.02214\n",
      "[10]\ttrain-mlogloss:0.69103\ttest-mlogloss:0.69201\n",
      "[20]\ttrain-mlogloss:0.31164\ttest-mlogloss:0.31293\n",
      "[30]\ttrain-mlogloss:0.15466\ttest-mlogloss:0.15605\n",
      "[40]\ttrain-mlogloss:0.08299\ttest-mlogloss:0.08436\n",
      "[50]\ttrain-mlogloss:0.04813\ttest-mlogloss:0.04947\n",
      "[60]\ttrain-mlogloss:0.03017\ttest-mlogloss:0.03148\n",
      "[70]\ttrain-mlogloss:0.02024\ttest-mlogloss:0.02153\n",
      "[80]\ttrain-mlogloss:0.01436\ttest-mlogloss:0.01563\n",
      "[90]\ttrain-mlogloss:0.01066\ttest-mlogloss:0.01194\n",
      "[100]\ttrain-mlogloss:0.00825\ttest-mlogloss:0.00952\n",
      "[110]\ttrain-mlogloss:0.00659\ttest-mlogloss:0.00787\n",
      "[120]\ttrain-mlogloss:0.00539\ttest-mlogloss:0.00669\n",
      "[130]\ttrain-mlogloss:0.00453\ttest-mlogloss:0.00586\n",
      "[140]\ttrain-mlogloss:0.00387\ttest-mlogloss:0.00523\n",
      "[150]\ttrain-mlogloss:0.00336\ttest-mlogloss:0.00475\n",
      "[160]\ttrain-mlogloss:0.00295\ttest-mlogloss:0.00437\n",
      "[170]\ttrain-mlogloss:0.00260\ttest-mlogloss:0.00406\n",
      "[180]\ttrain-mlogloss:0.00233\ttest-mlogloss:0.00383\n",
      "[190]\ttrain-mlogloss:0.00209\ttest-mlogloss:0.00363\n",
      "[200]\ttrain-mlogloss:0.00190\ttest-mlogloss:0.00347\n",
      "[210]\ttrain-mlogloss:0.00173\ttest-mlogloss:0.00333\n",
      "[220]\ttrain-mlogloss:0.00159\ttest-mlogloss:0.00321\n",
      "[230]\ttrain-mlogloss:0.00146\ttest-mlogloss:0.00312\n",
      "[240]\ttrain-mlogloss:0.00135\ttest-mlogloss:0.00303\n",
      "[250]\ttrain-mlogloss:0.00126\ttest-mlogloss:0.00296\n",
      "[260]\ttrain-mlogloss:0.00117\ttest-mlogloss:0.00289\n",
      "[270]\ttrain-mlogloss:0.00109\ttest-mlogloss:0.00284\n",
      "[280]\ttrain-mlogloss:0.00102\ttest-mlogloss:0.00279\n",
      "[290]\ttrain-mlogloss:0.00096\ttest-mlogloss:0.00275\n",
      "[299]\ttrain-mlogloss:0.00090\ttest-mlogloss:0.00272\n"
     ]
    }
   ],
   "source": [
    "num_round = 300\n",
    "# bst = xgb.train(params, dtrain, num_round)\n",
    "bst = xgb.train(\n",
    "    params,\n",
    "    dtrain,\n",
    "    num_boost_round=num_round,\n",
    "    evals=[(dtrain, \"train\"), (dtest, \"test\")],  # track both train and test\n",
    "    verbose_eval=10,  # prints info every 10 rounds\n",
    "    early_stopping_rounds=20\n",
    ")"
   ]
  },
  {
   "cell_type": "code",
   "execution_count": 35,
   "id": "57f114c4",
   "metadata": {},
   "outputs": [
    {
     "name": "stdout",
     "output_type": "stream",
     "text": [
      "Accuracy: 0.9990\n"
     ]
    }
   ],
   "source": [
    "y_pred_proba = bst.predict(dtest)\n",
    "y_pred = np.argmax(y_pred_proba, axis=1)\n",
    "\n",
    "accuracy = accuracy_score(y_test_bert, y_pred)\n",
    "print(f\"Accuracy: {accuracy:.4f}\")"
   ]
  },
  {
   "cell_type": "code",
   "execution_count": 27,
   "id": "655da9ad",
   "metadata": {},
   "outputs": [
    {
     "name": "stdout",
     "output_type": "stream",
     "text": [
      "Chance of Full Stack Developer: 0.22%\n",
      "Top 3 job matches:\n",
      "Cloud Engineer: 85.37%\n",
      "Security Engineer: 7.89%\n",
      "DevOps Engineer: 4.65%\n"
     ]
    }
   ],
   "source": [
    "\n",
    "sample_resume = \"AWS, CI/CD\"\n",
    "# sample_resume = \"Python, Java, C, C++, HTML, CSS, JavaScript, SQL, NoSQL, VS Code, Git, GitHub, Figma, WSL,: Linux, Node.js, Express.js, JWT, Passport.js, React.js, Vite, Socket.io , WebRTC, PDFKit,Mongoose, Bootstrap, REST API, EJS, Postman, Docker, AWS Lambda,MySQL, MongoDB, DynamoDB, AWS, Render, NGINX, Apache\"\n",
    "sample_vec = model.encode([sample_resume], convert_to_tensor=False)\n",
    "dvec = xgb.DMatrix(sample_vec)\n",
    "\n",
    "probas = bst.predict(dvec)[0]  # shape = (num_classes,)\n",
    "classes = le.classes_  # your original LabelEncoder classes\n",
    "job_probs = dict(zip(classes, probas))\n",
    "target_job = \"Full Stack Developer\"\n",
    "chance = job_probs.get(target_job, 0) * 100\n",
    "print(f\"Chance of {target_job}: {chance:.2f}%\")\n",
    "top3 = sorted(job_probs.items(), key=lambda x: x[1], reverse=True)[:3]\n",
    "\n",
    "print(\"Top 3 job matches:\")\n",
    "for job, prob in top3:\n",
    "    print(f\"{job}: {prob*100:.2f}%\")\n"
   ]
  },
  {
   "cell_type": "code",
   "execution_count": 16,
   "id": "ee208ddd",
   "metadata": {},
   "outputs": [],
   "source": [
    "import pickle"
   ]
  },
  {
   "cell_type": "code",
   "execution_count": 17,
   "id": "94f77989",
   "metadata": {},
   "outputs": [],
   "source": [
    "with open(\"xgboost_bert_model.pkl\", \"wb\") as f:\n",
    "    pickle.dump(bst, f)"
   ]
  },
  {
   "cell_type": "code",
   "execution_count": 20,
   "id": "35778697",
   "metadata": {},
   "outputs": [
    {
     "data": {
      "text/plain": [
       "['bert_model_for_xgboost.pkl']"
      ]
     },
     "execution_count": 20,
     "metadata": {},
     "output_type": "execute_result"
    }
   ],
   "source": [
    "import joblib\n",
    "joblib.dump(model, \"bert_model_for_xgboost.pkl\")"
   ]
  },
  {
   "cell_type": "code",
   "execution_count": 21,
   "id": "77218007",
   "metadata": {},
   "outputs": [
    {
     "data": {
      "text/plain": [
       "['le_model_for_xgboost.pkl']"
      ]
     },
     "execution_count": 21,
     "metadata": {},
     "output_type": "execute_result"
    }
   ],
   "source": [
    "joblib.dump(le, \"le_model_for_xgboost.pkl\")"
   ]
  },
  {
   "cell_type": "code",
   "execution_count": 37,
   "id": "5e69d188",
   "metadata": {},
   "outputs": [],
   "source": [
    "import numpy as np"
   ]
  },
  {
   "cell_type": "code",
   "execution_count": null,
   "id": "81a27dcd",
   "metadata": {},
   "outputs": [],
   "source": [
    "np.save(\"X_embeddings.npy\", X_embeddings)\n",
    "np.save(\"y_labels.npy\", df_bert['JOB_CATEGORY'].values)"
   ]
  }
 ],
 "metadata": {
  "kernelspec": {
   "display_name": "Python 3",
   "language": "python",
   "name": "python3"
  },
  "language_info": {
   "codemirror_mode": {
    "name": "ipython",
    "version": 3
   },
   "file_extension": ".py",
   "mimetype": "text/x-python",
   "name": "python",
   "nbconvert_exporter": "python",
   "pygments_lexer": "ipython3",
   "version": "3.13.2"
  }
 },
 "nbformat": 4,
 "nbformat_minor": 5
}
