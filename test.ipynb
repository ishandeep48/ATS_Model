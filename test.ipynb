{
 "cells": [
  {
   "cell_type": "code",
   "execution_count": 50,
   "id": "265a837a",
   "metadata": {},
   "outputs": [],
   "source": [
    "import joblib"
   ]
  },
  {
   "cell_type": "code",
   "execution_count": 51,
   "id": "c8e455ea",
   "metadata": {},
   "outputs": [],
   "source": [
    "model = joblib.load(\"bert_model.pkl\")"
   ]
  },
  {
   "cell_type": "code",
   "execution_count": 52,
   "id": "497792a9",
   "metadata": {},
   "outputs": [],
   "source": [
    "rf = joblib.load(\"rf_bert_model.pkl\")"
   ]
  },
  {
   "cell_type": "code",
   "execution_count": 53,
   "id": "e2ad568a",
   "metadata": {},
   "outputs": [
    {
     "name": "stdout",
     "output_type": "stream",
     "text": [
      "Predicted Job: Full Stack Developer\n"
     ]
    },
    {
     "name": "stderr",
     "output_type": "stream",
     "text": [
      "[Parallel(n_jobs=16)]: Using backend ThreadingBackend with 16 concurrent workers.\n",
      "[Parallel(n_jobs=16)]: Done   9 tasks      | elapsed:    0.0s\n",
      "[Parallel(n_jobs=16)]: Done 130 tasks      | elapsed:    0.0s\n",
      "[Parallel(n_jobs=16)]: Done 200 out of 200 | elapsed:    0.0s finished\n"
     ]
    }
   ],
   "source": [
    "sample_resume = \"Python, Java, C, C++, HTML, CSS, JavaScript, SQL, NoSQL, VS Code, Git, GitHub, Figma, WSL,: Linux, Node.js, Express.js, JWT, Passport.js, React.js, Vite, Socket.io , WebRTC, PDFKit,Mongoose, Bootstrap, REST API, EJS, Postman, Docker, AWS Lambda,MySQL, MongoDB, DynamoDB, AWS, Render, NGINX, Apache\"\n",
    "# sample_resume = \"Node.js , Express.js , react.js\" \n",
    "sample_vec = model.encode([sample_resume])\n",
    "predicted_job = rf.predict(sample_vec)[0]\n",
    "print(\"Predicted Job:\", predicted_job)"
   ]
  },
  {
   "cell_type": "code",
   "execution_count": 54,
   "id": "3e9a70cf",
   "metadata": {},
   "outputs": [
    {
     "name": "stdout",
     "output_type": "stream",
     "text": [
      "Chance of Full Stack Developer: 31.50%\n",
      "Top 3 job matches:\n",
      "Full Stack Developer: 31.50%\n",
      "Backend Developer: 19.00%\n",
      "Frontend Developer: 16.50%\n"
     ]
    },
    {
     "name": "stderr",
     "output_type": "stream",
     "text": [
      "[Parallel(n_jobs=16)]: Using backend ThreadingBackend with 16 concurrent workers.\n",
      "[Parallel(n_jobs=16)]: Done   9 tasks      | elapsed:    0.0s\n",
      "[Parallel(n_jobs=16)]: Done 130 tasks      | elapsed:    0.0s\n",
      "[Parallel(n_jobs=16)]: Done 200 out of 200 | elapsed:    0.0s finished\n"
     ]
    }
   ],
   "source": [
    "probas = rf.predict_proba(sample_vec)[0]\n",
    "classes = rf.classes_\n",
    "\n",
    "target_job = \"Full Stack Developer\"\n",
    "\n",
    "job_probs = dict(zip(classes, probas))\n",
    "\n",
    "chance = job_probs.get(target_job, 0) * 100\n",
    "print(f\"Chance of {target_job}: {chance:.2f}%\")\n",
    "job_probs = dict(zip(classes, probas))\n",
    "top3 = sorted(job_probs.items(), key=lambda x: x[1], reverse=True)[:3]\n",
    "\n",
    "# Print nicely\n",
    "print(\"Top 3 job matches:\")\n",
    "for job, prob in top3:\n",
    "    print(f\"{job}: {prob*100:.2f}%\")\n"
   ]
  }
 ],
 "metadata": {
  "kernelspec": {
   "display_name": "Python 3",
   "language": "python",
   "name": "python3"
  },
  "language_info": {
   "codemirror_mode": {
    "name": "ipython",
    "version": 3
   },
   "file_extension": ".py",
   "mimetype": "text/x-python",
   "name": "python",
   "nbconvert_exporter": "python",
   "pygments_lexer": "ipython3",
   "version": "3.13.2"
  }
 },
 "nbformat": 4,
 "nbformat_minor": 5
}
