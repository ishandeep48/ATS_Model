{
 "cells": [
  {
   "cell_type": "code",
   "execution_count": null,
   "id": "265a837a",
   "metadata": {},
   "outputs": [],
   "source": [
    "import joblib"
   ]
  },
  {
   "cell_type": "code",
   "execution_count": 2,
   "id": "c8e455ea",
   "metadata": {},
   "outputs": [
    {
     "name": "stderr",
     "output_type": "stream",
     "text": [
      "C:\\Users\\ishan\\AppData\\Roaming\\Python\\Python313\\site-packages\\tqdm\\auto.py:21: TqdmWarning: IProgress not found. Please update jupyter and ipywidgets. See https://ipywidgets.readthedocs.io/en/stable/user_install.html\n",
      "  from .autonotebook import tqdm as notebook_tqdm\n"
     ]
    }
   ],
   "source": [
    "model = joblib.load(\"bert_model.pkl\")"
   ]
  },
  {
   "cell_type": "code",
   "execution_count": 4,
   "id": "497792a9",
   "metadata": {},
   "outputs": [],
   "source": [
    "rf = joblib.load(\"rf_bert_model.pkl\")"
   ]
  },
  {
   "cell_type": "code",
   "execution_count": null,
   "id": "e2ad568a",
   "metadata": {},
   "outputs": [
    {
     "name": "stdout",
     "output_type": "stream",
     "text": [
      "Predicted Job: Full Stack Developer\n"
     ]
    },
    {
     "name": "stderr",
     "output_type": "stream",
     "text": [
      "[Parallel(n_jobs=16)]: Using backend ThreadingBackend with 16 concurrent workers.\n",
      "[Parallel(n_jobs=16)]: Done   9 tasks      | elapsed:    0.0s\n",
      "[Parallel(n_jobs=16)]: Done 130 tasks      | elapsed:    0.0s\n",
      "[Parallel(n_jobs=16)]: Done 333 tasks      | elapsed:    0.0s\n",
      "[Parallel(n_jobs=16)]: Done 616 tasks      | elapsed:    0.0s\n",
      "[Parallel(n_jobs=16)]: Done 1000 out of 1000 | elapsed:    0.0s finished\n"
     ]
    }
   ],
   "source": [
    "sample_resume = \"redis, typescript , docker, react\"\n",
    "sample_vec = model.encode([sample_resume])\n",
    "predicted_job = rf.predict(sample_vec)[0]\n",
    "print(\"Predicted Job:\", predicted_job)"
   ]
  },
  {
   "cell_type": "code",
   "execution_count": null,
   "id": "3e9a70cf",
   "metadata": {},
   "outputs": [
    {
     "name": "stdout",
     "output_type": "stream",
     "text": [
      "Chance of Full Stack Developer: 40.40%\n",
      "Top 3 job matches:\n",
      "Full Stack Developer: 40.40%\n",
      "Backend Developer: 14.40%\n",
      "DevOps Engineer: 10.70%\n"
     ]
    },
    {
     "name": "stderr",
     "output_type": "stream",
     "text": [
      "[Parallel(n_jobs=16)]: Using backend ThreadingBackend with 16 concurrent workers.\n",
      "[Parallel(n_jobs=16)]: Done   9 tasks      | elapsed:    0.0s\n",
      "[Parallel(n_jobs=16)]: Done 130 tasks      | elapsed:    0.0s\n",
      "[Parallel(n_jobs=16)]: Done 333 tasks      | elapsed:    0.0s\n",
      "[Parallel(n_jobs=16)]: Done 616 tasks      | elapsed:    0.0s\n",
      "[Parallel(n_jobs=16)]: Done 1000 out of 1000 | elapsed:    0.0s finished\n"
     ]
    }
   ],
   "source": [
    "probas = rf.predict_proba(sample_vec)[0]\n",
    "classes = rf.classes_\n",
    "\n",
    "target_job = \"Full Stack Developer\"\n",
    "\n",
    "job_probs = dict(zip(classes, probas))\n",
    "\n",
    "chance = job_probs.get(target_job, 0) * 100\n",
    "print(f\"Chance of {target_job}: {chance:.2f}%\")\n",
    "job_probs = dict(zip(classes, probas))\n",
    "top3 = sorted(job_probs.items(), key=lambda x: x[1], reverse=True)[:3]\n",
    "\n",
    "# Print nicely\n",
    "print(\"Top 3 job matches:\")\n",
    "for job, prob in top3:\n",
    "    print(f\"{job}: {prob*100:.2f}%\")\n"
   ]
  }
 ],
 "metadata": {
  "kernelspec": {
   "display_name": "Python 3",
   "language": "python",
   "name": "python3"
  },
  "language_info": {
   "codemirror_mode": {
    "name": "ipython",
    "version": 3
   },
   "file_extension": ".py",
   "mimetype": "text/x-python",
   "name": "python",
   "nbconvert_exporter": "python",
   "pygments_lexer": "ipython3",
   "version": "3.13.2"
  }
 },
 "nbformat": 4,
 "nbformat_minor": 5
}
