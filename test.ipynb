{
 "cells": [
  {
   "cell_type": "code",
   "execution_count": 7,
   "id": "265a837a",
   "metadata": {},
   "outputs": [],
   "source": [
    "import joblib\n",
    "import numpy as np\n",
    "import xgboost as xgb"
   ]
  },
  {
   "cell_type": "code",
   "execution_count": 4,
   "id": "c8e455ea",
   "metadata": {},
   "outputs": [],
   "source": [
    "model = joblib.load(\"bert_model_for_xgboost.pkl\")\n",
    "le=joblib.load('le_model_for_xgboost.pkl')"
   ]
  },
  {
   "cell_type": "code",
   "execution_count": 9,
   "id": "497792a9",
   "metadata": {},
   "outputs": [],
   "source": [
    "bst = joblib.load(\"xgboost_bert_model.pkl\")\n",
    "X_embeddings = np.load('X_embeddings.npy')\n",
    "y_labels = np.load('y_labels.npy',allow_pickle=True)"
   ]
  },
  {
   "cell_type": "code",
   "execution_count": 10,
   "id": "3e9a70cf",
   "metadata": {},
   "outputs": [
    {
     "name": "stdout",
     "output_type": "stream",
     "text": [
      "Chance of Full Stack Developer: 0.22%\n",
      "Top 3 job matches:\n",
      "Cloud Engineer: 85.37%\n",
      "Security Engineer: 7.89%\n",
      "DevOps Engineer: 4.65%\n"
     ]
    },
    {
     "name": "stderr",
     "output_type": "stream",
     "text": [
      "C:\\Users\\ishan\\AppData\\Roaming\\Python\\Python313\\site-packages\\xgboost\\core.py:729: UserWarning: [21:04:54] WARNING: C:\\actions-runner\\_work\\xgboost\\xgboost\\src\\common\\error_msg.cc:27: The tree method `gpu_hist` is deprecated since 2.0.0. To use GPU training, set the `device` parameter to CUDA instead.\n",
      "\n",
      "    E.g. tree_method = \"hist\", device = \"cuda\"\n",
      "\n",
      "  return func(**kwargs)\n"
     ]
    }
   ],
   "source": [
    "\n",
    "sample_resume = \"AWS, CI/CD\"\n",
    "# sample_resume = \"Python, Java, C, C++, HTML, CSS, JavaScript, SQL, NoSQL, VS Code, Git, GitHub, Figma, WSL,: Linux, Node.js, Express.js, JWT, Passport.js, React.js, Vite, Socket.io , WebRTC, PDFKit,Mongoose, Bootstrap, REST API, EJS, Postman, Docker, AWS Lambda,MySQL, MongoDB, DynamoDB, AWS, Render, NGINX, Apache\"\n",
    "sample_vec = model.encode([sample_resume], convert_to_tensor=False)\n",
    "dvec = xgb.DMatrix(sample_vec)\n",
    "\n",
    "probas = bst.predict(dvec)[0]  # shape = (num_classes,)\n",
    "classes = le.classes_  # your original LabelEncoder classes\n",
    "job_probs = dict(zip(classes, probas))\n",
    "target_job = \"Full Stack Developer\"\n",
    "chance = job_probs.get(target_job, 0) * 100\n",
    "print(f\"Chance of {target_job}: {chance:.2f}%\")\n",
    "top3 = sorted(job_probs.items(), key=lambda x: x[1], reverse=True)[:3]\n",
    "\n",
    "print(\"Top 3 job matches:\")\n",
    "for job, prob in top3:\n",
    "    print(f\"{job}: {prob*100:.2f}%\")\n"
   ]
  }
 ],
 "metadata": {
  "kernelspec": {
   "display_name": "Python 3",
   "language": "python",
   "name": "python3"
  },
  "language_info": {
   "codemirror_mode": {
    "name": "ipython",
    "version": 3
   },
   "file_extension": ".py",
   "mimetype": "text/x-python",
   "name": "python",
   "nbconvert_exporter": "python",
   "pygments_lexer": "ipython3",
   "version": "3.13.2"
  }
 },
 "nbformat": 4,
 "nbformat_minor": 5
}
